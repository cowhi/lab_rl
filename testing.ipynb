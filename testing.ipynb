{
 "cells": [
  {
   "cell_type": "code",
   "execution_count": 77,
   "metadata": {},
   "outputs": [],
   "source": [
    "from collections import defaultdict\n",
    "from helper import get_softmax\n",
    "import tensorflow as tf\n",
    "import numpy as np\n",
    "import random\n",
    "\n",
    "global train_lib\n",
    "\n",
    "def get_importance(state=None):\n",
    "    return np.array([0.25, 0.25, 0.5])\n",
    "\n",
    "def get_combined_probs(state):\n",
    "    importance = get_importance(state)\n",
    "    summed_probs = np.array([0., 0., 0.])\n",
    "    for i in range(len(train_lib)):\n",
    "        probs = get_softmax(train_lib[i], tau=1.0)\n",
    "        summed_probs += importance[i] * probs\n",
    "    return summed_probs\n",
    "oh, wie wars\n",
    "def get_action(state=None, tau=1.0):\n",
    "    \"\"\" Returns an action selected through softmax. \"\"\"\n",
    "    # print(self.step_current, self.tau, self.batch_size)\n",
    "    return np.random.choice(3, p=get_combined_probs(state))"
   ]
  },
  {
   "cell_type": "code",
   "execution_count": 82,
   "metadata": {},
   "outputs": [
    {
     "name": "stdout",
     "output_type": "stream",
     "text": [
      "('Action:', 2)\n"
     ]
    }
   ],
   "source": [
    "train_lib = (np.array([[1, 1, 1]]),\n",
    "             np.array([[0, 1, 2]]),\n",
    "             np.array([[0, 0, 1]]))\n",
    "\n",
    "action = get_action()\n",
    "print(\"Action:\", action)\n",
    "# probabilities for each action\n",
    "#probs = defaultdict()\n",
    "#weighted_probs = defaultdict()\n",
    "\n",
    "#print(\"summed_probs = \" + str(summed_probs) + \" --> sum = \" + str(sum(summed_probs)))\n"
   ]
  },
  {
   "cell_type": "code",
   "execution_count": null,
   "metadata": {},
   "outputs": [],
   "source": []
  },
  {
   "cell_type": "code",
   "execution_count": null,
   "metadata": {},
   "outputs": [],
   "source": []
  },
  {
   "cell_type": "code",
   "execution_count": null,
   "metadata": {},
   "outputs": [],
   "source": []
  }
 ],
 "metadata": {
  "kernelspec": {
   "display_name": "Python 2",
   "language": "python",
   "name": "python2"
  },
  "language_info": {
   "codemirror_mode": {
    "name": "ipython",
    "version": 2
   },
   "file_extension": ".py",
   "mimetype": "text/x-python",
   "name": "python",
   "nbconvert_exporter": "python",
   "pygments_lexer": "ipython2",
   "version": "2.7.13"
  }
 },
 "nbformat": 4,
 "nbformat_minor": 2
}
