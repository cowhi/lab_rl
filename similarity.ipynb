{
 "cells": [
  {
   "cell_type": "code",
   "execution_count": 193,
   "metadata": {},
   "outputs": [],
   "source": [
    "from collections import defaultdict"
   ]
  },
  {
   "cell_type": "code",
   "execution_count": 194,
   "metadata": {},
   "outputs": [],
   "source": [
    "class Task(object):\n",
    "    def __init__(self, goals=1, apples=0, strawberries=0, lemons=0, fungi=0):\n",
    "        self.content = {\n",
    "            'apples': apples,\n",
    "            'goals': goals,\n",
    "            'strawberries': strawberries,\n",
    "            'lemons': lemons,\n",
    "            'fungi': fungi\n",
    "        }\n",
    "        \n",
    "    def common_objects(self, task):\n",
    "        # |objects in common|/|objects in all tasks|\n",
    "        common_objects = 0.0\n",
    "        all_objects = 0.0\n",
    "        for i in self.content:\n",
    "            if self.content[i] > 0 and task.content[i] > 0:\n",
    "                common_objects += 1.0\n",
    "            if self.content[i] > 0 or  task.content[i] > 0:\n",
    "                all_objects += 1.0\n",
    "        # print(common_objects, all_objects)\n",
    "        return common_objects/all_objects\n",
    "    \n",
    "    def common_complexity(self, task):\n",
    "        min_objects = 0.0\n",
    "        max_objects = 0.0\n",
    "        for i in self.content:\n",
    "            min_objects += min(self.content[i], task.content[i])\n",
    "            max_objects += max(self.content[i], task.content[i])\n",
    "        # print(min_objects, max_objects)\n",
    "        return min_objects/max_objects\n",
    "    \n",
    "    def common_complexity2(self, task):\n",
    "        min_objects = 0.0\n",
    "        max_objects = 0.0\n",
    "        running_score = 0.0\n",
    "        count_obj = 0\n",
    "        for i in self.content:\n",
    "            if self.content[i] > 0 or task.content[i] > 0:\n",
    "                count_obj += 1\n",
    "                running_score += min(self.content[i], task.content[i]) / max(self.content[i], task.content[i])\n",
    "        # print(min_objects, max_objects)\n",
    "        return running_score / count_obj\n",
    "    \n",
    "    def get_similarity(self, task, factor1=0.9, factor2=0.1):\n",
    "        # print('objetcs:', factor1*self.common_objects(task),\n",
    "        #      'complexity', factor2*self.common_complexity(task))\n",
    "        return factor1 * self.common_objects(task) + \\\n",
    "               factor2 * self.common_complexity(task)\n",
    "    \n",
    "    def get_similarity2(self, task, factor1=0.8, factor2=0.2):\n",
    "        # print('objetcs:', factor1*self.common_objects(task),\n",
    "        #      'complexity', factor2*self.common_complexity2(task))\n",
    "        return factor1 * self.common_objects(task) + \\\n",
    "               factor2 * self.common_complexity2(task)"
   ]
  },
  {
   "cell_type": "code",
   "execution_count": 196,
   "metadata": {},
   "outputs": [
    {
     "name": "stdout",
     "output_type": "stream",
     "text": [
      "0: []\n",
      "1: ['0(0.500)']\n",
      "2: ['1(0.933)']\n",
      "3: []\n",
      "4: []\n",
      "5: []\n",
      "6: ['1(0.618)', '2(0.655)', '4(0.655)']\n",
      "7: ['4(0.655)', '5(0.655)']\n",
      "8: ['5(0.505)']\n",
      "9: ['6(0.578)', '7(0.578)', '8(0.767)']\n"
     ]
    }
   ],
   "source": [
    "tasks = defaultdict()\n",
    "tasks[0] = Task()\n",
    "tasks[1] = Task(apples=1)\n",
    "tasks[2] = Task(apples=5)\n",
    "tasks[3] = Task(strawberries=5)\n",
    "tasks[4] = Task(lemons=5)\n",
    "tasks[5] = Task(fungi=5)\n",
    "tasks[6] = Task(apples=5, lemons=5)\n",
    "tasks[7] = Task(lemons=5, fungi=5)\n",
    "tasks[8] = Task(apples=3, strawberries=2, fungi=5)\n",
    "tasks[9] = Task(apples=2, strawberries=3, lemons=3, fungi=2)\n",
    "\n",
    "sim_th = 0.5\n",
    "\n",
    "for task in tasks:\n",
    "    sources = []\n",
    "    for compare_task in tasks:\n",
    "        if not task == compare_task and \\\n",
    "                compare_task < task:\n",
    "            sim = tasks[task].get_similarity(tasks[compare_task])\n",
    "            if sim >= sim_th:    \n",
    "                sim = str('{0:.3f}'.format(sim))\n",
    "                sources.append(str(compare_task) + '(' + sim + ')')\n",
    "    print(str(task) + ': ' + str(sources))\n"
   ]
  },
  {
   "cell_type": "code",
   "execution_count": 191,
   "metadata": {},
   "outputs": [
    {
     "name": "stdout",
     "output_type": "stream",
     "text": [
      "0: ['0(1.000)', '1(0.475)', '2(0.463)', '3(0.470)', '4(0.470)', '5(0.467)', '6(0.317)', '7(0.311)', '8(0.235)', '9(0.188)']\n",
      "1: ['0(0.475)', '1(1.000)', '2(0.950)', '3(0.312)', '4(0.312)', '5(0.311)', '6(0.625)', '7(0.233)', '8(0.490)', '9(0.391)']\n",
      "2: ['0(0.463)', '1(0.950)', '2(1.000)', '3(0.308)', '4(0.308)', '5(0.308)', '6(0.617)', '7(0.231)', '8(0.479)', '9(0.384)']\n",
      "3: ['0(0.470)', '1(0.312)', '2(0.308)', '3(1.000)', '4(0.311)', '5(0.310)', '6(0.683)', '7(0.656)', '8(0.187)', '9(0.389)']\n",
      "4: ['0(0.470)', '1(0.312)', '2(0.308)', '3(0.311)', '4(1.000)', '5(0.310)', '6(0.235)', '7(0.233)', '8(0.486)', '9(0.389)']\n",
      "5: ['0(0.467)', '1(0.311)', '2(0.308)', '3(0.310)', '4(0.310)', '5(1.000)', '6(0.234)', '7(0.650)', '8(0.483)', '9(0.387)']\n",
      "6: ['0(0.317)', '1(0.625)', '2(0.617)', '3(0.683)', '4(0.235)', '5(0.234)', '6(1.000)', '7(0.500)', '8(0.374)', '9(0.576)']\n",
      "7: ['0(0.311)', '1(0.233)', '2(0.231)', '3(0.656)', '4(0.233)', '5(0.650)', '6(0.500)', '7(1.000)', '8(0.387)', '9(0.587)']\n",
      "8: ['0(0.235)', '1(0.490)', '2(0.479)', '3(0.187)', '4(0.486)', '5(0.483)', '6(0.374)', '7(0.387)', '8(1.000)', '9(0.797)']\n",
      "9: ['0(0.188)', '1(0.391)', '2(0.384)', '3(0.389)', '4(0.389)', '5(0.387)', '6(0.576)', '7(0.587)', '8(0.797)', '9(1.000)']\n"
     ]
    }
   ],
   "source": [
    "tasks = defaultdict()\n",
    "tasks[0] = Task()\n",
    "tasks[1] = Task(apples=3)\n",
    "tasks[2] = Task(apples=7)\n",
    "tasks[3] = Task(lemons=4)\n",
    "tasks[4] = Task(strawberries=4)\n",
    "tasks[5] = Task(fungi=5)\n",
    "tasks[6] = Task(apples=1, lemons=4)\n",
    "tasks[7] = Task(lemons=4, fungi=4)\n",
    "tasks[8] = Task(apples=3, strawberries=3, fungi=3)\n",
    "tasks[9] = Task(apples=3, strawberries=3, lemons=3, fungi=3)\n",
    "\n",
    "for task in tasks:\n",
    "    sources = []\n",
    "    for compare_task in tasks:\n",
    "        sim = str('{0:.3f}'.format(tasks[task].get_similarity(tasks[compare_task])))\n",
    "        sources.append(str(compare_task) + '(' + sim + ')')\n",
    "    print(str(task) + ': ' + str(sources))"
   ]
  },
  {
   "cell_type": "code",
   "execution_count": null,
   "metadata": {},
   "outputs": [],
   "source": []
  }
 ],
 "metadata": {
  "kernelspec": {
   "display_name": "Python 2",
   "language": "python",
   "name": "python2"
  },
  "language_info": {
   "codemirror_mode": {
    "name": "ipython",
    "version": 2
   },
   "file_extension": ".py",
   "mimetype": "text/x-python",
   "name": "python",
   "nbconvert_exporter": "python",
   "pygments_lexer": "ipython2",
   "version": "2.7.13"
  }
 },
 "nbformat": 4,
 "nbformat_minor": 2
}
